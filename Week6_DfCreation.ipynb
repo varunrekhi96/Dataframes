{
 "cells": [
  {
   "cell_type": "code",
   "execution_count": 1,
   "id": "ec51168b",
   "metadata": {},
   "outputs": [],
   "source": [
    "from pyspark.sql import SparkSession\n",
    "import getpass\n",
    "username = getpass.getuser()\n",
    "spark = SparkSession. \\\n",
    "builder. \\\n",
    "config('spark.ui.port', '0'). \\\n",
    "config(\"spark.sql.warehouse.dir\", f\"/user/{username}/warehouse\"). \\\n",
    "enableHiveSupport(). \\\n",
    "master('yarn'). \\\n",
    "getOrCreate()"
   ]
  },
  {
   "cell_type": "code",
   "execution_count": 2,
   "id": "d59b3fdb",
   "metadata": {},
   "outputs": [],
   "source": [
    "orders_df = spark.read \\\n",
    ".format(\"csv\") \\\n",
    ".option(\"header\", \"true\") \\\n",
    ".option(\"inferSchema\", \"true\") \\\n",
    ".load(\"/public/trendytech/orders_wh/*\")"
   ]
  },
  {
   "cell_type": "code",
   "execution_count": 3,
   "id": "a16d082b",
   "metadata": {},
   "outputs": [
    {
     "name": "stdout",
     "output_type": "stream",
     "text": [
      "+--------+--------------------+-----------+---------------+\n",
      "|order_id|          order_date|customer_id|   order_status|\n",
      "+--------+--------------------+-----------+---------------+\n",
      "|       1|2013-07-25 00:00:...|      11599|         CLOSED|\n",
      "|       2|2013-07-25 00:00:...|        256|PENDING_PAYMENT|\n",
      "|       3|2013-07-25 00:00:...|      12111|       COMPLETE|\n",
      "|       4|2013-07-25 00:00:...|       8827|         CLOSED|\n",
      "|       5|2013-07-25 00:00:...|      11318|       COMPLETE|\n",
      "|       6|2013-07-25 00:00:...|       7130|       COMPLETE|\n",
      "|       7|2013-07-25 00:00:...|       4530|       COMPLETE|\n",
      "|       8|2013-07-25 00:00:...|       2911|     PROCESSING|\n",
      "|       9|2013-07-25 00:00:...|       5657|PENDING_PAYMENT|\n",
      "|      10|2013-07-25 00:00:...|       5648|PENDING_PAYMENT|\n",
      "|      11|2013-07-25 00:00:...|        918| PAYMENT_REVIEW|\n",
      "|      12|2013-07-25 00:00:...|       1837|         CLOSED|\n",
      "|      13|2013-07-25 00:00:...|       9149|PENDING_PAYMENT|\n",
      "|      14|2013-07-25 00:00:...|       9842|     PROCESSING|\n",
      "|      15|2013-07-25 00:00:...|       2568|       COMPLETE|\n",
      "|      16|2013-07-25 00:00:...|       7276|PENDING_PAYMENT|\n",
      "|      17|2013-07-25 00:00:...|       2667|       COMPLETE|\n",
      "|      18|2013-07-25 00:00:...|       1205|         CLOSED|\n",
      "|      19|2013-07-25 00:00:...|       9488|PENDING_PAYMENT|\n",
      "|      20|2013-07-25 00:00:...|       9198|     PROCESSING|\n",
      "+--------+--------------------+-----------+---------------+\n",
      "only showing top 20 rows\n",
      "\n"
     ]
    }
   ],
   "source": [
    "orders_df.show()"
   ]
  },
  {
   "cell_type": "markdown",
   "id": "c178856d",
   "metadata": {},
   "source": [
    "### Note: Please check the databases in your lab id"
   ]
  },
  {
   "cell_type": "code",
   "execution_count": 4,
   "id": "7510b97d",
   "metadata": {},
   "outputs": [
    {
     "data": {
      "text/html": [
       "<table border='1'>\n",
       "<tr><th>namespace</th></tr>\n",
       "<tr><td>itv006277_retail</td></tr>\n",
       "</table>\n"
      ],
      "text/plain": [
       "+----------------+\n",
       "|       namespace|\n",
       "+----------------+\n",
       "|itv006277_retail|\n",
       "+----------------+"
      ]
     },
     "execution_count": 4,
     "metadata": {},
     "output_type": "execute_result"
    }
   ],
   "source": [
    "spark.sql(\"show databases\").filter(\"namespace like 'itv006277_ret%'\")"
   ]
  },
  {
   "cell_type": "code",
   "execution_count": 5,
   "id": "07fed073",
   "metadata": {},
   "outputs": [
    {
     "data": {
      "text/html": [
       "<table border='1'>\n",
       "<tr><th></th></tr>\n",
       "</table>\n"
      ],
      "text/plain": [
       "++\n",
       "||\n",
       "++\n",
       "++"
      ]
     },
     "execution_count": 5,
     "metadata": {},
     "output_type": "execute_result"
    }
   ],
   "source": [
    "spark.sql(\"use itv006277_retail\")"
   ]
  },
  {
   "cell_type": "code",
   "execution_count": 6,
   "id": "2dacd462",
   "metadata": {},
   "outputs": [
    {
     "data": {
      "text/html": [
       "<table border='1'>\n",
       "<tr><th>database</th><th>tableName</th><th>isTemporary</th></tr>\n",
       "<tr><td>itv006277_retail</td><td>orders</td><td>false</td></tr>\n",
       "<tr><td>itv006277_retail</td><td>orders_ext</td><td>false</td></tr>\n",
       "</table>\n"
      ],
      "text/plain": [
       "+----------------+----------+-----------+\n",
       "|        database| tableName|isTemporary|\n",
       "+----------------+----------+-----------+\n",
       "|itv006277_retail|    orders|      false|\n",
       "|itv006277_retail|orders_ext|      false|\n",
       "+----------------+----------+-----------+"
      ]
     },
     "execution_count": 6,
     "metadata": {},
     "output_type": "execute_result"
    }
   ],
   "source": [
    "spark.sql(\"show tables\")"
   ]
  },
  {
   "cell_type": "code",
   "execution_count": 7,
   "id": "066afd55",
   "metadata": {},
   "outputs": [],
   "source": [
    "orders_df = spark.sql(\"select * from orders_ext where order_status = 'CLOSED'\")"
   ]
  },
  {
   "cell_type": "code",
   "execution_count": 8,
   "id": "f53b88e4",
   "metadata": {},
   "outputs": [
    {
     "name": "stdout",
     "output_type": "stream",
     "text": [
      "+--------+--------------------+-----------+------------+\n",
      "|order_id|          order_date|customer_id|order_status|\n",
      "+--------+--------------------+-----------+------------+\n",
      "|       1|2013-07-25 00:00:...|      11599|      CLOSED|\n",
      "|       4|2013-07-25 00:00:...|       8827|      CLOSED|\n",
      "|      12|2013-07-25 00:00:...|       1837|      CLOSED|\n",
      "|      18|2013-07-25 00:00:...|       1205|      CLOSED|\n",
      "|      24|2013-07-25 00:00:...|      11441|      CLOSED|\n",
      "|      25|2013-07-25 00:00:...|       9503|      CLOSED|\n",
      "|      37|2013-07-25 00:00:...|       5863|      CLOSED|\n",
      "|      51|2013-07-25 00:00:...|      12271|      CLOSED|\n",
      "|      57|2013-07-25 00:00:...|       7073|      CLOSED|\n",
      "|      61|2013-07-25 00:00:...|       4791|      CLOSED|\n",
      "|      62|2013-07-25 00:00:...|       9111|      CLOSED|\n",
      "|      87|2013-07-25 00:00:...|       3065|      CLOSED|\n",
      "|      90|2013-07-25 00:00:...|       9131|      CLOSED|\n",
      "|     101|2013-07-25 00:00:...|       5116|      CLOSED|\n",
      "|     116|2013-07-26 00:00:...|       8763|      CLOSED|\n",
      "|     129|2013-07-26 00:00:...|       9937|      CLOSED|\n",
      "|     133|2013-07-26 00:00:...|      10604|      CLOSED|\n",
      "|     191|2013-07-26 00:00:...|         16|      CLOSED|\n",
      "|     201|2013-07-26 00:00:...|       9055|      CLOSED|\n",
      "|     211|2013-07-26 00:00:...|      10372|      CLOSED|\n",
      "+--------+--------------------+-----------+------------+\n",
      "only showing top 20 rows\n",
      "\n"
     ]
    }
   ],
   "source": [
    "orders_df.show()"
   ]
  },
  {
   "cell_type": "code",
   "execution_count": 9,
   "id": "4c01d6be",
   "metadata": {},
   "outputs": [],
   "source": [
    "df = spark.table(\"itv006277_retail.orders_ext\")"
   ]
  },
  {
   "cell_type": "code",
   "execution_count": 10,
   "id": "3dceb2e6",
   "metadata": {},
   "outputs": [
    {
     "name": "stdout",
     "output_type": "stream",
     "text": [
      "+--------+--------------------+-----------+---------------+\n",
      "|order_id|          order_date|customer_id|   order_status|\n",
      "+--------+--------------------+-----------+---------------+\n",
      "|       1|2013-07-25 00:00:...|      11599|         CLOSED|\n",
      "|       2|2013-07-25 00:00:...|        256|PENDING_PAYMENT|\n",
      "|       3|2013-07-25 00:00:...|      12111|       COMPLETE|\n",
      "|       4|2013-07-25 00:00:...|       8827|         CLOSED|\n",
      "|       5|2013-07-25 00:00:...|      11318|       COMPLETE|\n",
      "|       6|2013-07-25 00:00:...|       7130|       COMPLETE|\n",
      "|       7|2013-07-25 00:00:...|       4530|       COMPLETE|\n",
      "|       8|2013-07-25 00:00:...|       2911|     PROCESSING|\n",
      "|       9|2013-07-25 00:00:...|       5657|PENDING_PAYMENT|\n",
      "|      10|2013-07-25 00:00:...|       5648|PENDING_PAYMENT|\n",
      "|      11|2013-07-25 00:00:...|        918| PAYMENT_REVIEW|\n",
      "|      12|2013-07-25 00:00:...|       1837|         CLOSED|\n",
      "|      13|2013-07-25 00:00:...|       9149|PENDING_PAYMENT|\n",
      "|      14|2013-07-25 00:00:...|       9842|     PROCESSING|\n",
      "|      15|2013-07-25 00:00:...|       2568|       COMPLETE|\n",
      "|      16|2013-07-25 00:00:...|       7276|PENDING_PAYMENT|\n",
      "|      17|2013-07-25 00:00:...|       2667|       COMPLETE|\n",
      "|      18|2013-07-25 00:00:...|       1205|         CLOSED|\n",
      "|      19|2013-07-25 00:00:...|       9488|PENDING_PAYMENT|\n",
      "|      20|2013-07-25 00:00:...|       9198|     PROCESSING|\n",
      "+--------+--------------------+-----------+---------------+\n",
      "only showing top 20 rows\n",
      "\n"
     ]
    }
   ],
   "source": [
    "df.show()"
   ]
  },
  {
   "cell_type": "code",
   "execution_count": 11,
   "id": "65c07df7",
   "metadata": {},
   "outputs": [
    {
     "data": {
      "text/html": [
       "<table border='1'>\n",
       "<tr><th>id</th></tr>\n",
       "<tr><td>0</td></tr>\n",
       "<tr><td>2</td></tr>\n",
       "<tr><td>4</td></tr>\n",
       "<tr><td>6</td></tr>\n",
       "</table>\n"
      ],
      "text/plain": [
       "+---+\n",
       "| id|\n",
       "+---+\n",
       "|  0|\n",
       "|  2|\n",
       "|  4|\n",
       "|  6|\n",
       "+---+"
      ]
     },
     "execution_count": 11,
     "metadata": {},
     "output_type": "execute_result"
    }
   ],
   "source": [
    "spark.range(0,8, 2)"
   ]
  },
  {
   "cell_type": "code",
   "execution_count": 12,
   "id": "2ba485c9",
   "metadata": {},
   "outputs": [
    {
     "name": "stdout",
     "output_type": "stream",
     "text": [
      "1,2013-07-25 00:00:00.0,11599,CLOSED\n",
      "2,2013-07-25 00:00:00.0,256,PENDING_PAYMENT\n",
      "3,2013-07-25 00:00:00.0,12111,COMPLETE\n",
      "4,2013-07-25 00:00:00.0,8827,CLOSED\n",
      "5,2013-07-25 00:00:00.0,11318,COMPLETE\n",
      "6,2013-07-25 00:00:00.0,7130,COMPLETE\n",
      "7,2013-07-25 00:00:00.0,4530,COMPLETE\n",
      "8,2013-07-25 00:00:00.0,2911,PROCESSING\n",
      "9,2013-07-25 00:00:00.0,5657,PENDING_PAYMENT\n",
      "10,2013-07-25 00:00:00.0,5648,PENDING_PAYMENT\n",
      "cat: Unable to write to output stream.\n"
     ]
    }
   ],
   "source": [
    "! hadoop fs -cat /public/trendytech/retail_db/orders/part-00000 | head"
   ]
  },
  {
   "cell_type": "code",
   "execution_count": 13,
   "id": "c5b4fcd6",
   "metadata": {},
   "outputs": [],
   "source": [
    "orders_list = [(1,'2013-07-25 00:00:00.0',11599,'CLOSED'),\n",
    "(2,'2013-07-25 00:00:00.0',256,'PENDING_PAYMENT'),\n",
    "(3,'2013-07-25 00:00:00.0',12111,'COMPLETE')\n",
    "]"
   ]
  },
  {
   "cell_type": "code",
   "execution_count": 14,
   "id": "01a0789e",
   "metadata": {},
   "outputs": [],
   "source": [
    "orders_raw_df = spark.createDataFrame(orders_list)"
   ]
  },
  {
   "cell_type": "code",
   "execution_count": 15,
   "id": "dd0e58b5",
   "metadata": {},
   "outputs": [
    {
     "name": "stdout",
     "output_type": "stream",
     "text": [
      "+---+--------------------+-----+---------------+\n",
      "| _1|                  _2|   _3|             _4|\n",
      "+---+--------------------+-----+---------------+\n",
      "|  1|2013-07-25 00:00:...|11599|         CLOSED|\n",
      "|  2|2013-07-25 00:00:...|  256|PENDING_PAYMENT|\n",
      "|  3|2013-07-25 00:00:...|12111|       COMPLETE|\n",
      "+---+--------------------+-----+---------------+\n",
      "\n"
     ]
    }
   ],
   "source": [
    "orders_raw_df.show()"
   ]
  },
  {
   "cell_type": "code",
   "execution_count": 16,
   "id": "f67cb9de",
   "metadata": {},
   "outputs": [
    {
     "name": "stdout",
     "output_type": "stream",
     "text": [
      "root\n",
      " |-- _1: long (nullable = true)\n",
      " |-- _2: string (nullable = true)\n",
      " |-- _3: long (nullable = true)\n",
      " |-- _4: string (nullable = true)\n",
      "\n"
     ]
    }
   ],
   "source": [
    "orders_raw_df.printSchema()"
   ]
  },
  {
   "cell_type": "code",
   "execution_count": 17,
   "id": "25408ff4",
   "metadata": {},
   "outputs": [],
   "source": [
    "orders_raw_df = spark.createDataFrame(orders_list).toDF('order_id', 'order_date','customer_id', 'order_status')"
   ]
  },
  {
   "cell_type": "code",
   "execution_count": 18,
   "id": "03c1f07a",
   "metadata": {},
   "outputs": [
    {
     "name": "stdout",
     "output_type": "stream",
     "text": [
      "+--------+--------------------+-----------+---------------+\n",
      "|order_id|          order_date|customer_id|   order_status|\n",
      "+--------+--------------------+-----------+---------------+\n",
      "|       1|2013-07-25 00:00:...|      11599|         CLOSED|\n",
      "|       2|2013-07-25 00:00:...|        256|PENDING_PAYMENT|\n",
      "|       3|2013-07-25 00:00:...|      12111|       COMPLETE|\n",
      "+--------+--------------------+-----------+---------------+\n",
      "\n"
     ]
    }
   ],
   "source": [
    "orders_raw_df.show()"
   ]
  },
  {
   "cell_type": "code",
   "execution_count": 19,
   "id": "a33645cd",
   "metadata": {},
   "outputs": [
    {
     "name": "stdout",
     "output_type": "stream",
     "text": [
      "root\n",
      " |-- order_id: long (nullable = true)\n",
      " |-- order_date: string (nullable = true)\n",
      " |-- customer_id: long (nullable = true)\n",
      " |-- order_status: string (nullable = true)\n",
      "\n"
     ]
    }
   ],
   "source": [
    "orders_raw_df.printSchema()"
   ]
  },
  {
   "cell_type": "code",
   "execution_count": 20,
   "id": "7507b463",
   "metadata": {},
   "outputs": [],
   "source": [
    "orders_raw_df = spark.createDataFrame(orders_list)"
   ]
  },
  {
   "cell_type": "code",
   "execution_count": 21,
   "id": "d6a345b1",
   "metadata": {},
   "outputs": [],
   "source": [
    "orders_df = orders_raw_df.toDF('order_id', 'order_date','customer_id', 'order_status')"
   ]
  },
  {
   "cell_type": "code",
   "execution_count": 22,
   "id": "c47d4d70",
   "metadata": {},
   "outputs": [
    {
     "name": "stdout",
     "output_type": "stream",
     "text": [
      "+--------+--------------------+-----------+---------------+\n",
      "|order_id|          order_date|customer_id|   order_status|\n",
      "+--------+--------------------+-----------+---------------+\n",
      "|       1|2013-07-25 00:00:...|      11599|         CLOSED|\n",
      "|       2|2013-07-25 00:00:...|        256|PENDING_PAYMENT|\n",
      "|       3|2013-07-25 00:00:...|      12111|       COMPLETE|\n",
      "+--------+--------------------+-----------+---------------+\n",
      "\n"
     ]
    }
   ],
   "source": [
    "orders_df.show()"
   ]
  },
  {
   "cell_type": "code",
   "execution_count": 23,
   "id": "7fbbb773",
   "metadata": {},
   "outputs": [],
   "source": [
    "new_df = orders_df.toDF('order_id','order_date','customer_id','orderstatus')"
   ]
  },
  {
   "cell_type": "code",
   "execution_count": 24,
   "id": "ff9b9728",
   "metadata": {},
   "outputs": [
    {
     "name": "stdout",
     "output_type": "stream",
     "text": [
      "+--------+--------------------+-----------+---------------+\n",
      "|order_id|          order_date|customer_id|    orderstatus|\n",
      "+--------+--------------------+-----------+---------------+\n",
      "|       1|2013-07-25 00:00:...|      11599|         CLOSED|\n",
      "|       2|2013-07-25 00:00:...|        256|PENDING_PAYMENT|\n",
      "|       3|2013-07-25 00:00:...|      12111|       COMPLETE|\n",
      "+--------+--------------------+-----------+---------------+\n",
      "\n"
     ]
    }
   ],
   "source": [
    "new_df.show()"
   ]
  },
  {
   "cell_type": "code",
   "execution_count": 25,
   "id": "c2e93084",
   "metadata": {},
   "outputs": [],
   "source": [
    "orders_schema = [\"order_id\", \"order_date\", \"cust_id\", \"order_status\"]"
   ]
  },
  {
   "cell_type": "code",
   "execution_count": 26,
   "id": "2efe8c70",
   "metadata": {},
   "outputs": [],
   "source": [
    "df = spark.createDataFrame(orders_list, orders_schema)"
   ]
  },
  {
   "cell_type": "code",
   "execution_count": 27,
   "id": "b46c35dd",
   "metadata": {},
   "outputs": [
    {
     "name": "stdout",
     "output_type": "stream",
     "text": [
      "+--------+--------------------+-------+---------------+\n",
      "|order_id|          order_date|cust_id|   order_status|\n",
      "+--------+--------------------+-------+---------------+\n",
      "|       1|2013-07-25 00:00:...|  11599|         CLOSED|\n",
      "|       2|2013-07-25 00:00:...|    256|PENDING_PAYMENT|\n",
      "|       3|2013-07-25 00:00:...|  12111|       COMPLETE|\n",
      "+--------+--------------------+-------+---------------+\n",
      "\n"
     ]
    }
   ],
   "source": [
    "df.show()"
   ]
  },
  {
   "cell_type": "code",
   "execution_count": 28,
   "id": "3651ec0f",
   "metadata": {},
   "outputs": [
    {
     "name": "stdout",
     "output_type": "stream",
     "text": [
      "root\n",
      " |-- order_id: long (nullable = true)\n",
      " |-- order_date: string (nullable = true)\n",
      " |-- cust_id: long (nullable = true)\n",
      " |-- order_status: string (nullable = true)\n",
      "\n"
     ]
    }
   ],
   "source": [
    "df.printSchema()"
   ]
  },
  {
   "cell_type": "code",
   "execution_count": 29,
   "id": "2b0d05e3",
   "metadata": {},
   "outputs": [],
   "source": [
    "orders_schema = 'order_id long, order_date string, cust_id int, order_status string'"
   ]
  },
  {
   "cell_type": "code",
   "execution_count": 30,
   "id": "06f22eae",
   "metadata": {},
   "outputs": [],
   "source": [
    "df = spark.createDataFrame(orders_list, orders_schema)"
   ]
  },
  {
   "cell_type": "code",
   "execution_count": 31,
   "id": "056f3849",
   "metadata": {},
   "outputs": [
    {
     "name": "stdout",
     "output_type": "stream",
     "text": [
      "+--------+--------------------+-------+---------------+\n",
      "|order_id|          order_date|cust_id|   order_status|\n",
      "+--------+--------------------+-------+---------------+\n",
      "|       1|2013-07-25 00:00:...|  11599|         CLOSED|\n",
      "|       2|2013-07-25 00:00:...|    256|PENDING_PAYMENT|\n",
      "|       3|2013-07-25 00:00:...|  12111|       COMPLETE|\n",
      "+--------+--------------------+-------+---------------+\n",
      "\n"
     ]
    }
   ],
   "source": [
    "df.show()"
   ]
  },
  {
   "cell_type": "code",
   "execution_count": 32,
   "id": "bf6f49ee",
   "metadata": {},
   "outputs": [
    {
     "name": "stdout",
     "output_type": "stream",
     "text": [
      "root\n",
      " |-- order_id: long (nullable = true)\n",
      " |-- order_date: string (nullable = true)\n",
      " |-- cust_id: integer (nullable = true)\n",
      " |-- order_status: string (nullable = true)\n",
      "\n"
     ]
    }
   ],
   "source": [
    "df.printSchema()"
   ]
  },
  {
   "cell_type": "code",
   "execution_count": 33,
   "id": "f2033607",
   "metadata": {},
   "outputs": [],
   "source": [
    "from pyspark.sql.functions import to_timestamp"
   ]
  },
  {
   "cell_type": "code",
   "execution_count": 34,
   "id": "e262dcf6",
   "metadata": {},
   "outputs": [],
   "source": [
    "new_df = df.withColumn(\"order_date\", to_timestamp('order_date'))"
   ]
  },
  {
   "cell_type": "code",
   "execution_count": 35,
   "id": "4d3c4061",
   "metadata": {},
   "outputs": [
    {
     "name": "stdout",
     "output_type": "stream",
     "text": [
      "+--------+-------------------+-------+---------------+\n",
      "|order_id|         order_date|cust_id|   order_status|\n",
      "+--------+-------------------+-------+---------------+\n",
      "|       1|2013-07-25 00:00:00|  11599|         CLOSED|\n",
      "|       2|2013-07-25 00:00:00|    256|PENDING_PAYMENT|\n",
      "|       3|2013-07-25 00:00:00|  12111|       COMPLETE|\n",
      "+--------+-------------------+-------+---------------+\n",
      "\n"
     ]
    }
   ],
   "source": [
    "new_df.show()"
   ]
  },
  {
   "cell_type": "code",
   "execution_count": null,
   "id": "12601816",
   "metadata": {},
   "outputs": [],
   "source": []
  }
 ],
 "metadata": {
  "kernelspec": {
   "display_name": "Pyspark 3",
   "language": "python",
   "name": "pyspark3"
  },
  "language_info": {
   "codemirror_mode": {
    "name": "ipython",
    "version": 3
   },
   "file_extension": ".py",
   "mimetype": "text/x-python",
   "name": "python",
   "nbconvert_exporter": "python",
   "pygments_lexer": "ipython3",
   "version": "3.6.12"
  }
 },
 "nbformat": 4,
 "nbformat_minor": 5
}
