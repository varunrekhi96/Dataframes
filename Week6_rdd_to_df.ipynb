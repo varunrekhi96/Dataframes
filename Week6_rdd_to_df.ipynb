{
 "cells": [
  {
   "cell_type": "code",
   "execution_count": null,
   "id": "cd180662",
   "metadata": {},
   "outputs": [],
   "source": [
    "from pyspark.sql import SparkSession\n",
    "import getpass\n",
    "username = getpass.getuser()\n",
    "spark = SparkSession. \\\n",
    "builder. \\\n",
    "config('spark.ui.port', '0'). \\\n",
    "config(\"spark.sql.warehouse.dir\", f\"/user/{username}/warehouse\"). \\\n",
    "enableHiveSupport(). \\\n",
    "master('yarn'). \\\n",
    "getOrCreate()"
   ]
  },
  {
   "cell_type": "code",
   "execution_count": null,
   "id": "4b7ebbab",
   "metadata": {},
   "outputs": [],
   "source": [
    "orders_rdd = spark.sparkContext.textFile(\"/public/trendytech/retail_db/orders/part-00000\")"
   ]
  },
  {
   "cell_type": "code",
   "execution_count": null,
   "id": "7afa0216",
   "metadata": {},
   "outputs": [],
   "source": [
    "orders_rdd.take(5)"
   ]
  },
  {
   "cell_type": "code",
   "execution_count": null,
   "id": "5ac11c67",
   "metadata": {},
   "outputs": [],
   "source": [
    "new_orders_rdd = orders_rdd.map(lambda x: (int(x.split(\",\")[0]),x.split(\",\")[1],int(x.split(\",\")[2]), x.split(\",\")[3]))"
   ]
  },
  {
   "cell_type": "code",
   "execution_count": null,
   "id": "855b9f35",
   "metadata": {},
   "outputs": [],
   "source": [
    "new_orders_rdd.take(5)"
   ]
  },
  {
   "cell_type": "code",
   "execution_count": null,
   "id": "3df56dcc",
   "metadata": {},
   "outputs": [],
   "source": [
    "orders_schema = 'order_id long, order_date string, cust_id int, status string'"
   ]
  },
  {
   "cell_type": "code",
   "execution_count": null,
   "id": "13bb5793",
   "metadata": {},
   "outputs": [],
   "source": [
    "df = spark.createDataFrame(new_orders_rdd, orders_schema)"
   ]
  },
  {
   "cell_type": "code",
   "execution_count": null,
   "id": "1a554219",
   "metadata": {},
   "outputs": [],
   "source": [
    "df.show()"
   ]
  },
  {
   "cell_type": "code",
   "execution_count": null,
   "id": "81e230e6",
   "metadata": {},
   "outputs": [],
   "source": [
    "df.printSchema()"
   ]
  },
  {
   "cell_type": "code",
   "execution_count": null,
   "id": "dcd7d0b0",
   "metadata": {},
   "outputs": [],
   "source": [
    "new_df = spark.createDataFrame(new_orders_rdd).toDF('order_id', 'order_date', 'customer_id', 'order_status')"
   ]
  },
  {
   "cell_type": "code",
   "execution_count": null,
   "id": "6d094a6a",
   "metadata": {},
   "outputs": [],
   "source": [
    "new_df.show()"
   ]
  },
  {
   "cell_type": "code",
   "execution_count": null,
   "id": "6a4369fc",
   "metadata": {},
   "outputs": [],
   "source": [
    "new_df.printSchema()"
   ]
  },
  {
   "cell_type": "code",
   "execution_count": null,
   "id": "02007783",
   "metadata": {},
   "outputs": [],
   "source": [
    "new_df = spark.createDataFrame(new_orders_rdd)"
   ]
  },
  {
   "cell_type": "code",
   "execution_count": null,
   "id": "11a42ca9",
   "metadata": {},
   "outputs": [],
   "source": [
    "new_df.show()"
   ]
  },
  {
   "cell_type": "code",
   "execution_count": null,
   "id": "01aa704e",
   "metadata": {},
   "outputs": [],
   "source": [
    "orders_schema = 'order_id long, order_date string, cust_id int, status string'"
   ]
  },
  {
   "cell_type": "code",
   "execution_count": null,
   "id": "a1e1dca3",
   "metadata": {},
   "outputs": [],
   "source": [
    "df = new_orders_rdd.toDF(orders_schema)"
   ]
  },
  {
   "cell_type": "code",
   "execution_count": null,
   "id": "a3c18422",
   "metadata": {},
   "outputs": [],
   "source": [
    "df.show()"
   ]
  },
  {
   "cell_type": "code",
   "execution_count": null,
   "id": "585528ee",
   "metadata": {},
   "outputs": [],
   "source": [
    "df.printSchema()"
   ]
  },
  {
   "cell_type": "code",
   "execution_count": null,
   "id": "1c5df1bb",
   "metadata": {},
   "outputs": [],
   "source": []
  }
 ],
 "metadata": {
  "kernelspec": {
   "display_name": "Pyspark 3",
   "language": "python",
   "name": "pyspark3"
  },
  "language_info": {
   "codemirror_mode": {
    "name": "ipython",
    "version": 3
   },
   "file_extension": ".py",
   "mimetype": "text/x-python",
   "name": "python",
   "nbconvert_exporter": "python",
   "pygments_lexer": "ipython3",
   "version": "3.6.12"
  }
 },
 "nbformat": 4,
 "nbformat_minor": 5
}
