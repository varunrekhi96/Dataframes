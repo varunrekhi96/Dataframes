{
 "cells": [
  {
   "cell_type": "code",
   "execution_count": 1,
   "id": "eae34e49",
   "metadata": {},
   "outputs": [],
   "source": [
    "from pyspark.sql import SparkSession\n",
    "import getpass\n",
    "username = getpass.getuser()\n",
    "spark = SparkSession. \\\n",
    "builder. \\\n",
    "config('spark.ui.port', '0'). \\\n",
    "config(\"spark.sql.warehouse.dir\", f\"/user/{username}/warehouse\"). \\\n",
    "enableHiveSupport(). \\\n",
    "master('yarn'). \\\n",
    "getOrCreate()"
   ]
  },
  {
   "cell_type": "code",
   "execution_count": 2,
   "id": "54c77fa1",
   "metadata": {},
   "outputs": [
    {
     "data": {
      "text/html": [
       "\n",
       "            <div>\n",
       "                <p><b>SparkSession - hive</b></p>\n",
       "                \n",
       "        <div>\n",
       "            <p><b>SparkContext</b></p>\n",
       "\n",
       "            <p><a href=\"http://g01.itversity.com:35573\">Spark UI</a></p>\n",
       "\n",
       "            <dl>\n",
       "              <dt>Version</dt>\n",
       "                <dd><code>v3.1.2</code></dd>\n",
       "              <dt>Master</dt>\n",
       "                <dd><code>yarn</code></dd>\n",
       "              <dt>AppName</dt>\n",
       "                <dd><code>pyspark-shell</code></dd>\n",
       "            </dl>\n",
       "        </div>\n",
       "        \n",
       "            </div>\n",
       "        "
      ],
      "text/plain": [
       "<pyspark.sql.session.SparkSession at 0x7f8a58699eb8>"
      ]
     },
     "execution_count": 2,
     "metadata": {},
     "output_type": "execute_result"
    }
   ],
   "source": [
    "spark"
   ]
  },
  {
   "cell_type": "code",
   "execution_count": 3,
   "id": "fa5c3163",
   "metadata": {},
   "outputs": [],
   "source": [
    "ddlSchema = \"customer_id long, fullname struct<firstname:string, lastname:string>, city string\""
   ]
  },
  {
   "cell_type": "code",
   "execution_count": 4,
   "id": "c5ed53ef",
   "metadata": {},
   "outputs": [],
   "source": [
    "df = spark.read.format(\"json\").schema(ddlSchema).load(\"/public/trendytech/datasets/customer_nested/*\")"
   ]
  },
  {
   "cell_type": "code",
   "execution_count": 5,
   "id": "b6f57c7b",
   "metadata": {},
   "outputs": [
    {
     "name": "stdout",
     "output_type": "stream",
     "text": [
      "+-----------+----------------+---------+\n",
      "|customer_id|        fullname|     city|\n",
      "+-----------+----------------+---------+\n",
      "|          2|    {ram, kumar}|hyderabad|\n",
      "|          3|{vijay, shankar}|     pune|\n",
      "|          1| {sumit, mittal}|bangalore|\n",
      "+-----------+----------------+---------+\n",
      "\n"
     ]
    }
   ],
   "source": [
    "df.show()"
   ]
  },
  {
   "cell_type": "code",
   "execution_count": 6,
   "id": "8e2e4ec9",
   "metadata": {},
   "outputs": [
    {
     "name": "stdout",
     "output_type": "stream",
     "text": [
      "root\n",
      " |-- customer_id: long (nullable = true)\n",
      " |-- fullname: struct (nullable = true)\n",
      " |    |-- firstname: string (nullable = true)\n",
      " |    |-- lastname: string (nullable = true)\n",
      " |-- city: string (nullable = true)\n",
      "\n"
     ]
    }
   ],
   "source": [
    "df.printSchema()"
   ]
  },
  {
   "cell_type": "code",
   "execution_count": 10,
   "id": "2e37ad04",
   "metadata": {},
   "outputs": [],
   "source": [
    "from pyspark.sql.types import *"
   ]
  },
  {
   "cell_type": "code",
   "execution_count": 22,
   "id": "0899f69d",
   "metadata": {},
   "outputs": [],
   "source": [
    "customer_schema = StructType([\n",
    "StructField(\"customer_id\", LongType()),\n",
    "StructField(\"fullname\", StructType([StructField(\"firstname\", StringType()), StructField(\"lastname\", StringType())])),\n",
    "StructField(\"city\", LongType()),\n",
    "])"
   ]
  },
  {
   "cell_type": "code",
   "execution_count": 23,
   "id": "98df0065",
   "metadata": {},
   "outputs": [],
   "source": [
    "df = spark.read.format(\"json\").schema(customer_schema).load(\"/public/trendytech/datasets/customer_nested/*\")"
   ]
  },
  {
   "cell_type": "code",
   "execution_count": 24,
   "id": "827328c8",
   "metadata": {},
   "outputs": [
    {
     "name": "stdout",
     "output_type": "stream",
     "text": [
      "+-----------+----------------+----+\n",
      "|customer_id|        fullname|city|\n",
      "+-----------+----------------+----+\n",
      "|          2|    {ram, kumar}|null|\n",
      "|          3|{vijay, shankar}|null|\n",
      "|          1| {sumit, mittal}|null|\n",
      "+-----------+----------------+----+\n",
      "\n"
     ]
    }
   ],
   "source": [
    "df.show()"
   ]
  },
  {
   "cell_type": "code",
   "execution_count": 25,
   "id": "e63740b1",
   "metadata": {},
   "outputs": [
    {
     "name": "stdout",
     "output_type": "stream",
     "text": [
      "root\n",
      " |-- customer_id: long (nullable = true)\n",
      " |-- fullname: struct (nullable = true)\n",
      " |    |-- firstname: string (nullable = true)\n",
      " |    |-- lastname: string (nullable = true)\n",
      " |-- city: long (nullable = true)\n",
      "\n"
     ]
    }
   ],
   "source": [
    "df.printSchema()"
   ]
  },
  {
   "cell_type": "code",
   "execution_count": 26,
   "id": "ac2f08f0",
   "metadata": {},
   "outputs": [],
   "source": [
    "customer_list = [\n",
    "    (1, (\"sumit\", \"mittal\"), \"bangalore\"),\n",
    "    (2, (\"ram\", \"kumar\"), \"hyderabad\"),\n",
    "    (1, (\"vijay\", \"shankar\"), \"pune\"),\n",
    "]"
   ]
  },
  {
   "cell_type": "code",
   "execution_count": 27,
   "id": "7767bc52",
   "metadata": {},
   "outputs": [],
   "source": [
    "ddlSchema = \"customer_id long, fullname struct<firstname:string, lastname:string>, city string\""
   ]
  },
  {
   "cell_type": "code",
   "execution_count": 28,
   "id": "bc7a1443",
   "metadata": {},
   "outputs": [],
   "source": [
    "df = spark.createDataFrame(customer_list, ddlSchema)"
   ]
  },
  {
   "cell_type": "code",
   "execution_count": 29,
   "id": "2e075c86",
   "metadata": {},
   "outputs": [
    {
     "name": "stdout",
     "output_type": "stream",
     "text": [
      "+-----------+----------------+---------+\n",
      "|customer_id|        fullname|     city|\n",
      "+-----------+----------------+---------+\n",
      "|          1| {sumit, mittal}|bangalore|\n",
      "|          2|    {ram, kumar}|hyderabad|\n",
      "|          1|{vijay, shankar}|     pune|\n",
      "+-----------+----------------+---------+\n",
      "\n"
     ]
    }
   ],
   "source": [
    "df.show()"
   ]
  },
  {
   "cell_type": "code",
   "execution_count": 32,
   "id": "ede459b8",
   "metadata": {},
   "outputs": [],
   "source": [
    "customer_schema = StructType([\n",
    "StructField(\"customer_id\", LongType()),\n",
    "StructField(\"fullname\", StructType([StructField(\"firstname\", StringType()), StructField(\"lastname\", StringType())])),\n",
    "StructField(\"city\", StringType()),\n",
    "])"
   ]
  },
  {
   "cell_type": "code",
   "execution_count": 33,
   "id": "5be26723",
   "metadata": {},
   "outputs": [],
   "source": [
    "df = spark.createDataFrame(customer_list, customer_schema)"
   ]
  },
  {
   "cell_type": "code",
   "execution_count": 34,
   "id": "163a368b",
   "metadata": {},
   "outputs": [
    {
     "name": "stdout",
     "output_type": "stream",
     "text": [
      "root\n",
      " |-- customer_id: long (nullable = true)\n",
      " |-- fullname: struct (nullable = true)\n",
      " |    |-- firstname: string (nullable = true)\n",
      " |    |-- lastname: string (nullable = true)\n",
      " |-- city: string (nullable = true)\n",
      "\n"
     ]
    }
   ],
   "source": [
    "df.printSchema()"
   ]
  },
  {
   "cell_type": "code",
   "execution_count": null,
   "id": "c1c445e8",
   "metadata": {},
   "outputs": [],
   "source": []
  }
 ],
 "metadata": {
  "kernelspec": {
   "display_name": "Pyspark 3",
   "language": "python",
   "name": "pyspark3"
  },
  "language_info": {
   "codemirror_mode": {
    "name": "ipython",
    "version": 3
   },
   "file_extension": ".py",
   "mimetype": "text/x-python",
   "name": "python",
   "nbconvert_exporter": "python",
   "pygments_lexer": "ipython3",
   "version": "3.6.12"
  }
 },
 "nbformat": 4,
 "nbformat_minor": 5
}
