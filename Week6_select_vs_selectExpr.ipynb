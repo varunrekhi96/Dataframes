{
 "cells": [
  {
   "cell_type": "code",
   "execution_count": 35,
   "id": "24587d06",
   "metadata": {},
   "outputs": [],
   "source": [
    "from pyspark.sql import SparkSession\n",
    "import getpass\n",
    "username = getpass.getuser()\n",
    "spark = SparkSession. \\\n",
    "builder. \\\n",
    "config('spark.ui.port', '0'). \\\n",
    "config(\"spark.sql.warehouse.dir\", f\"/user/{username}/warehouse\"). \\\n",
    "enableHiveSupport(). \\\n",
    "master('yarn'). \\\n",
    "getOrCreate()"
   ]
  },
  {
   "cell_type": "code",
   "execution_count": 36,
   "id": "ec31f017",
   "metadata": {},
   "outputs": [
    {
     "name": "stdout",
     "output_type": "stream",
     "text": [
      "1,1,957,1,299.98,299.98\n",
      "2,2,1073,1,199.99,199.99\n",
      "3,2,502,5,250.0,50.0\n",
      "4,2,403,1,129.99,129.99\n",
      "5,4,897,2,49.98,24.99\n",
      "6,4,365,5,299.95,59.99\n",
      "7,4,502,3,150.0,50.0\n",
      "8,4,1014,4,199.92,49.98\n",
      "9,5,957,1,299.98,299.98\n",
      "10,5,365,5,299.95,59.99\n",
      "11,5,1014,2,99.96,49.98\n",
      "12,5,957,1,299.98,299.98\n",
      "13,5,403,1,129.99,129.99\n",
      "14,7,1073,1,199.99,199.99\n",
      "15,7,957,1,299.98,299.98\n",
      "16,7,926,5,79.95,15.99\n",
      "17,8,365,3,179.97,59.99\n",
      "18,8,365,5,299.95,59.99\n",
      "19,8,1014,4,199.92,49.98\n",
      "20,8,502,1,50.0,50.0\n",
      "21,9,191,2,199.98,99.99\n",
      "22,9,1073,1,199.99,199.99\n",
      "23,9,1073,1,199.99,199.99\n",
      "24,10,1073,1,199.99,199.99\n",
      "25,10,1014,2,99.96,49.98\n",
      "26,10,403,1,129.99,129.99\n",
      "27,10,917,1,21.99,21.99\n",
      "28,10,1073,1,199.99,199.99\n",
      "29,11,365,1,59.99,59.99\n",
      "30,11,627,4,159.96,39.99\n",
      "31,11,1014,1,49.98,49.98\n",
      "32,11,191,4,399.96,99.99\n",
      "33,11,1014,5,249.9,49.98\n",
      "34,12,957,1,299.98,299.98\n",
      "35,12,134,4,100.0,25.0\n",
      "36,12,1014,3,149.94,49.98\n",
      "37,12,191,5,499.95,99.99\n",
      "38,12,502,5,250.0,50.0\n",
      "39,13,276,4,127.96,31.99\n",
      "40,14,1004,1,399.98,399.98\n",
      "41,14,1014,2,99.96,49.98\n",
      "42,14,502,1,50.0,50.0"
     ]
    }
   ],
   "source": [
    "! hadoop fs -head /public/trendytech/retail_db/order_items/part-00000"
   ]
  },
  {
   "cell_type": "code",
   "execution_count": 37,
   "id": "6b9d953f",
   "metadata": {},
   "outputs": [],
   "source": [
    "raw_df = spark.read \\\n",
    ".format(\"csv\") \\\n",
    ".option(\"inferSchema\", \"true\") \\\n",
    ".load(\"/public/trendytech/retail_db/order_items/part-00000\")"
   ]
  },
  {
   "cell_type": "code",
   "execution_count": 38,
   "id": "45b1241c",
   "metadata": {},
   "outputs": [
    {
     "name": "stdout",
     "output_type": "stream",
     "text": [
      "+---+---+----+---+------+------+\n",
      "|_c0|_c1| _c2|_c3|   _c4|   _c5|\n",
      "+---+---+----+---+------+------+\n",
      "|  1|  1| 957|  1|299.98|299.98|\n",
      "|  2|  2|1073|  1|199.99|199.99|\n",
      "|  3|  2| 502|  5| 250.0|  50.0|\n",
      "|  4|  2| 403|  1|129.99|129.99|\n",
      "|  5|  4| 897|  2| 49.98| 24.99|\n",
      "|  6|  4| 365|  5|299.95| 59.99|\n",
      "|  7|  4| 502|  3| 150.0|  50.0|\n",
      "|  8|  4|1014|  4|199.92| 49.98|\n",
      "|  9|  5| 957|  1|299.98|299.98|\n",
      "| 10|  5| 365|  5|299.95| 59.99|\n",
      "| 11|  5|1014|  2| 99.96| 49.98|\n",
      "| 12|  5| 957|  1|299.98|299.98|\n",
      "| 13|  5| 403|  1|129.99|129.99|\n",
      "| 14|  7|1073|  1|199.99|199.99|\n",
      "| 15|  7| 957|  1|299.98|299.98|\n",
      "| 16|  7| 926|  5| 79.95| 15.99|\n",
      "| 17|  8| 365|  3|179.97| 59.99|\n",
      "| 18|  8| 365|  5|299.95| 59.99|\n",
      "| 19|  8|1014|  4|199.92| 49.98|\n",
      "| 20|  8| 502|  1|  50.0|  50.0|\n",
      "+---+---+----+---+------+------+\n",
      "only showing top 20 rows\n",
      "\n"
     ]
    }
   ],
   "source": [
    "raw_df.show()"
   ]
  },
  {
   "cell_type": "code",
   "execution_count": 39,
   "id": "92f9ba6c",
   "metadata": {},
   "outputs": [
    {
     "name": "stdout",
     "output_type": "stream",
     "text": [
      "root\n",
      " |-- _c0: integer (nullable = true)\n",
      " |-- _c1: integer (nullable = true)\n",
      " |-- _c2: integer (nullable = true)\n",
      " |-- _c3: integer (nullable = true)\n",
      " |-- _c4: double (nullable = true)\n",
      " |-- _c5: double (nullable = true)\n",
      "\n"
     ]
    }
   ],
   "source": [
    "raw_df.printSchema()"
   ]
  },
  {
   "cell_type": "code",
   "execution_count": 40,
   "id": "ffac4d4a",
   "metadata": {},
   "outputs": [],
   "source": [
    "refined_df = raw_df.toDF(\"order_item_id\", \"order_id\", \"product_id\", \"quantity\", \"subtotal\", \"product_price\")"
   ]
  },
  {
   "cell_type": "code",
   "execution_count": 41,
   "id": "37647bb5",
   "metadata": {},
   "outputs": [
    {
     "name": "stdout",
     "output_type": "stream",
     "text": [
      "+-------------+--------+----------+--------+--------+-------------+\n",
      "|order_item_id|order_id|product_id|quantity|subtotal|product_price|\n",
      "+-------------+--------+----------+--------+--------+-------------+\n",
      "|            1|       1|       957|       1|  299.98|       299.98|\n",
      "|            2|       2|      1073|       1|  199.99|       199.99|\n",
      "|            3|       2|       502|       5|   250.0|         50.0|\n",
      "|            4|       2|       403|       1|  129.99|       129.99|\n",
      "|            5|       4|       897|       2|   49.98|        24.99|\n",
      "|            6|       4|       365|       5|  299.95|        59.99|\n",
      "|            7|       4|       502|       3|   150.0|         50.0|\n",
      "|            8|       4|      1014|       4|  199.92|        49.98|\n",
      "|            9|       5|       957|       1|  299.98|       299.98|\n",
      "|           10|       5|       365|       5|  299.95|        59.99|\n",
      "|           11|       5|      1014|       2|   99.96|        49.98|\n",
      "|           12|       5|       957|       1|  299.98|       299.98|\n",
      "|           13|       5|       403|       1|  129.99|       129.99|\n",
      "|           14|       7|      1073|       1|  199.99|       199.99|\n",
      "|           15|       7|       957|       1|  299.98|       299.98|\n",
      "|           16|       7|       926|       5|   79.95|        15.99|\n",
      "|           17|       8|       365|       3|  179.97|        59.99|\n",
      "|           18|       8|       365|       5|  299.95|        59.99|\n",
      "|           19|       8|      1014|       4|  199.92|        49.98|\n",
      "|           20|       8|       502|       1|    50.0|         50.0|\n",
      "+-------------+--------+----------+--------+--------+-------------+\n",
      "only showing top 20 rows\n",
      "\n"
     ]
    }
   ],
   "source": [
    "refined_df.show()"
   ]
  },
  {
   "cell_type": "code",
   "execution_count": 42,
   "id": "b5a4a715",
   "metadata": {},
   "outputs": [],
   "source": [
    "df1 = refined_df.drop(\"subtotal\")"
   ]
  },
  {
   "cell_type": "code",
   "execution_count": 43,
   "id": "60364973",
   "metadata": {},
   "outputs": [
    {
     "name": "stdout",
     "output_type": "stream",
     "text": [
      "+-------------+--------+----------+--------+-------------+\n",
      "|order_item_id|order_id|product_id|quantity|product_price|\n",
      "+-------------+--------+----------+--------+-------------+\n",
      "|            1|       1|       957|       1|       299.98|\n",
      "|            2|       2|      1073|       1|       199.99|\n",
      "|            3|       2|       502|       5|         50.0|\n",
      "|            4|       2|       403|       1|       129.99|\n",
      "|            5|       4|       897|       2|        24.99|\n",
      "|            6|       4|       365|       5|        59.99|\n",
      "|            7|       4|       502|       3|         50.0|\n",
      "|            8|       4|      1014|       4|        49.98|\n",
      "|            9|       5|       957|       1|       299.98|\n",
      "|           10|       5|       365|       5|        59.99|\n",
      "|           11|       5|      1014|       2|        49.98|\n",
      "|           12|       5|       957|       1|       299.98|\n",
      "|           13|       5|       403|       1|       129.99|\n",
      "|           14|       7|      1073|       1|       199.99|\n",
      "|           15|       7|       957|       1|       299.98|\n",
      "|           16|       7|       926|       5|        15.99|\n",
      "|           17|       8|       365|       3|        59.99|\n",
      "|           18|       8|       365|       5|        59.99|\n",
      "|           19|       8|      1014|       4|        49.98|\n",
      "|           20|       8|       502|       1|         50.0|\n",
      "+-------------+--------+----------+--------+-------------+\n",
      "only showing top 20 rows\n",
      "\n"
     ]
    }
   ],
   "source": [
    "df1.show()"
   ]
  },
  {
   "cell_type": "code",
   "execution_count": 44,
   "id": "73fe0db0",
   "metadata": {},
   "outputs": [],
   "source": [
    "from pyspark.sql.functions import expr"
   ]
  },
  {
   "cell_type": "code",
   "execution_count": 45,
   "id": "4c286ef6",
   "metadata": {},
   "outputs": [
    {
     "name": "stdout",
     "output_type": "stream",
     "text": [
      "+-------------+--------+----------+--------+-------------+--------+\n",
      "|order_item_id|order_id|product_id|quantity|product_price|subtotal|\n",
      "+-------------+--------+----------+--------+-------------+--------+\n",
      "|            1|       1|       957|       1|       299.98|  299.98|\n",
      "|            2|       2|      1073|       1|       199.99|  199.99|\n",
      "|            3|       2|       502|       5|         50.0|   250.0|\n",
      "|            4|       2|       403|       1|       129.99|  129.99|\n",
      "|            5|       4|       897|       2|        24.99|   49.98|\n",
      "|            6|       4|       365|       5|        59.99|  299.95|\n",
      "|            7|       4|       502|       3|         50.0|   150.0|\n",
      "|            8|       4|      1014|       4|        49.98|  199.92|\n",
      "|            9|       5|       957|       1|       299.98|  299.98|\n",
      "|           10|       5|       365|       5|        59.99|  299.95|\n",
      "|           11|       5|      1014|       2|        49.98|   99.96|\n",
      "|           12|       5|       957|       1|       299.98|  299.98|\n",
      "|           13|       5|       403|       1|       129.99|  129.99|\n",
      "|           14|       7|      1073|       1|       199.99|  199.99|\n",
      "|           15|       7|       957|       1|       299.98|  299.98|\n",
      "|           16|       7|       926|       5|        15.99|   79.95|\n",
      "|           17|       8|       365|       3|        59.99|  179.97|\n",
      "|           18|       8|       365|       5|        59.99|  299.95|\n",
      "|           19|       8|      1014|       4|        49.98|  199.92|\n",
      "|           20|       8|       502|       1|         50.0|    50.0|\n",
      "+-------------+--------+----------+--------+-------------+--------+\n",
      "only showing top 20 rows\n",
      "\n"
     ]
    }
   ],
   "source": [
    "df1.select(\"*\", expr(\"product_price * quantity as subtotal\")).show()"
   ]
  },
  {
   "cell_type": "code",
   "execution_count": 46,
   "id": "5610f0b5",
   "metadata": {},
   "outputs": [
    {
     "name": "stdout",
     "output_type": "stream",
     "text": [
      "+-------------+--------+----------+--------+-------------+--------+\n",
      "|order_item_id|order_id|product_id|quantity|product_price|subtotal|\n",
      "+-------------+--------+----------+--------+-------------+--------+\n",
      "|            1|       1|       957|       1|       299.98|  299.98|\n",
      "|            2|       2|      1073|       1|       199.99|  199.99|\n",
      "|            3|       2|       502|       5|         50.0|   250.0|\n",
      "|            4|       2|       403|       1|       129.99|  129.99|\n",
      "|            5|       4|       897|       2|        24.99|   49.98|\n",
      "|            6|       4|       365|       5|        59.99|  299.95|\n",
      "|            7|       4|       502|       3|         50.0|   150.0|\n",
      "|            8|       4|      1014|       4|        49.98|  199.92|\n",
      "|            9|       5|       957|       1|       299.98|  299.98|\n",
      "|           10|       5|       365|       5|        59.99|  299.95|\n",
      "|           11|       5|      1014|       2|        49.98|   99.96|\n",
      "|           12|       5|       957|       1|       299.98|  299.98|\n",
      "|           13|       5|       403|       1|       129.99|  129.99|\n",
      "|           14|       7|      1073|       1|       199.99|  199.99|\n",
      "|           15|       7|       957|       1|       299.98|  299.98|\n",
      "|           16|       7|       926|       5|        15.99|   79.95|\n",
      "|           17|       8|       365|       3|        59.99|  179.97|\n",
      "|           18|       8|       365|       5|        59.99|  299.95|\n",
      "|           19|       8|      1014|       4|        49.98|  199.92|\n",
      "|           20|       8|       502|       1|         50.0|    50.0|\n",
      "+-------------+--------+----------+--------+-------------+--------+\n",
      "only showing top 20 rows\n",
      "\n"
     ]
    }
   ],
   "source": [
    "df1.selectExpr(\"*\", \"product_price * quantity as subtotal\").show()"
   ]
  },
  {
   "cell_type": "code",
   "execution_count": 47,
   "id": "546ad500",
   "metadata": {},
   "outputs": [],
   "source": [
    "products_df = spark.read \\\n",
    ".format(\"csv\") \\\n",
    ".option(\"inferSchema\", \"true\") \\\n",
    ".load(\"/public/trendytech/retail_db/products/part-00000\")"
   ]
  },
  {
   "cell_type": "code",
   "execution_count": 48,
   "id": "e5d8cc7c",
   "metadata": {},
   "outputs": [
    {
     "name": "stdout",
     "output_type": "stream",
     "text": [
      "+---+---+--------------------+----+------+--------------------+\n",
      "|_c0|_c1|                 _c2| _c3|   _c4|                 _c5|\n",
      "+---+---+--------------------+----+------+--------------------+\n",
      "|  1|  2|Quest Q64 10 FT. ...|null| 59.98|http://images.acm...|\n",
      "|  2|  2|Under Armour Men'...|null|129.99|http://images.acm...|\n",
      "|  3|  2|Under Armour Men'...|null| 89.99|http://images.acm...|\n",
      "|  4|  2|Under Armour Men'...|null| 89.99|http://images.acm...|\n",
      "|  5|  2|Riddell Youth Rev...|null|199.99|http://images.acm...|\n",
      "|  6|  2|Jordan Men's VI R...|null|134.99|http://images.acm...|\n",
      "|  7|  2|Schutt Youth Recr...|null| 99.99|http://images.acm...|\n",
      "|  8|  2|Nike Men's Vapor ...|null|129.99|http://images.acm...|\n",
      "|  9|  2|Nike Adult Vapor ...|null|  50.0|http://images.acm...|\n",
      "| 10|  2|Under Armour Men'...|null|129.99|http://images.acm...|\n",
      "| 11|  2|Fitness Gear 300 ...|null|209.99|http://images.acm...|\n",
      "| 12|  2|Under Armour Men'...|null|139.99|http://images.acm...|\n",
      "| 13|  2|Under Armour Men'...|null| 89.99|http://images.acm...|\n",
      "| 14|  2|Quik Shade Summit...|null|199.99|http://images.acm...|\n",
      "| 15|  2|Under Armour Kids...|null| 59.99|http://images.acm...|\n",
      "| 16|  2|Riddell Youth 360...|null|299.99|http://images.acm...|\n",
      "| 17|  2|Under Armour Men'...|null|129.99|http://images.acm...|\n",
      "| 18|  2|Reebok Men's Full...|null| 29.97|http://images.acm...|\n",
      "| 19|  2|Nike Men's Finger...|null|124.99|http://images.acm...|\n",
      "| 20|  2|Under Armour Men'...|null|129.99|http://images.acm...|\n",
      "+---+---+--------------------+----+------+--------------------+\n",
      "only showing top 20 rows\n",
      "\n"
     ]
    }
   ],
   "source": [
    "products_df.show()"
   ]
  },
  {
   "cell_type": "code",
   "execution_count": 49,
   "id": "4656d185",
   "metadata": {},
   "outputs": [],
   "source": [
    "df1 = products_df.toDF(\"product_id\", \"product_category_id\", \"product_name\", \"product_description\", \"product_price\", \"product_image\")"
   ]
  },
  {
   "cell_type": "code",
   "execution_count": 50,
   "id": "1f671a3b",
   "metadata": {},
   "outputs": [
    {
     "name": "stdout",
     "output_type": "stream",
     "text": [
      "+----------+-------------------+--------------------+-------------------+-------------+--------------------+\n",
      "|product_id|product_category_id|        product_name|product_description|product_price|       product_image|\n",
      "+----------+-------------------+--------------------+-------------------+-------------+--------------------+\n",
      "|         1|                  2|Quest Q64 10 FT. ...|               null|        59.98|http://images.acm...|\n",
      "|         2|                  2|Under Armour Men'...|               null|       129.99|http://images.acm...|\n",
      "|         3|                  2|Under Armour Men'...|               null|        89.99|http://images.acm...|\n",
      "|         4|                  2|Under Armour Men'...|               null|        89.99|http://images.acm...|\n",
      "|         5|                  2|Riddell Youth Rev...|               null|       199.99|http://images.acm...|\n",
      "|         6|                  2|Jordan Men's VI R...|               null|       134.99|http://images.acm...|\n",
      "|         7|                  2|Schutt Youth Recr...|               null|        99.99|http://images.acm...|\n",
      "|         8|                  2|Nike Men's Vapor ...|               null|       129.99|http://images.acm...|\n",
      "|         9|                  2|Nike Adult Vapor ...|               null|         50.0|http://images.acm...|\n",
      "|        10|                  2|Under Armour Men'...|               null|       129.99|http://images.acm...|\n",
      "|        11|                  2|Fitness Gear 300 ...|               null|       209.99|http://images.acm...|\n",
      "|        12|                  2|Under Armour Men'...|               null|       139.99|http://images.acm...|\n",
      "|        13|                  2|Under Armour Men'...|               null|        89.99|http://images.acm...|\n",
      "|        14|                  2|Quik Shade Summit...|               null|       199.99|http://images.acm...|\n",
      "|        15|                  2|Under Armour Kids...|               null|        59.99|http://images.acm...|\n",
      "|        16|                  2|Riddell Youth 360...|               null|       299.99|http://images.acm...|\n",
      "|        17|                  2|Under Armour Men'...|               null|       129.99|http://images.acm...|\n",
      "|        18|                  2|Reebok Men's Full...|               null|        29.97|http://images.acm...|\n",
      "|        19|                  2|Nike Men's Finger...|               null|       124.99|http://images.acm...|\n",
      "|        20|                  2|Under Armour Men'...|               null|       129.99|http://images.acm...|\n",
      "+----------+-------------------+--------------------+-------------------+-------------+--------------------+\n",
      "only showing top 20 rows\n",
      "\n"
     ]
    }
   ],
   "source": [
    "df1.show()"
   ]
  },
  {
   "cell_type": "code",
   "execution_count": 51,
   "id": "a0c68cfb",
   "metadata": {},
   "outputs": [
    {
     "name": "stdout",
     "output_type": "stream",
     "text": [
      "root\n",
      " |-- product_id: integer (nullable = true)\n",
      " |-- product_category_id: integer (nullable = true)\n",
      " |-- product_name: string (nullable = true)\n",
      " |-- product_description: string (nullable = true)\n",
      " |-- product_price: double (nullable = true)\n",
      " |-- product_image: string (nullable = true)\n",
      "\n"
     ]
    }
   ],
   "source": [
    "df1.printSchema()"
   ]
  },
  {
   "cell_type": "code",
   "execution_count": 52,
   "id": "d5ca6603",
   "metadata": {},
   "outputs": [],
   "source": [
    "df2 = df1.withColumn(\"product_price\", expr(\"product_price * 1.2\"))"
   ]
  },
  {
   "cell_type": "code",
   "execution_count": 53,
   "id": "30cf21e2",
   "metadata": {},
   "outputs": [
    {
     "name": "stdout",
     "output_type": "stream",
     "text": [
      "+----------+-------------------+--------------------+-------------------+------------------+--------------------+\n",
      "|product_id|product_category_id|        product_name|product_description|     product_price|       product_image|\n",
      "+----------+-------------------+--------------------+-------------------+------------------+--------------------+\n",
      "|         1|                  2|Quest Q64 10 FT. ...|               null|            71.976|http://images.acm...|\n",
      "|         2|                  2|Under Armour Men'...|               null|           155.988|http://images.acm...|\n",
      "|         3|                  2|Under Armour Men'...|               null|107.98799999999999|http://images.acm...|\n",
      "|         4|                  2|Under Armour Men'...|               null|107.98799999999999|http://images.acm...|\n",
      "|         5|                  2|Riddell Youth Rev...|               null|           239.988|http://images.acm...|\n",
      "|         6|                  2|Jordan Men's VI R...|               null|           161.988|http://images.acm...|\n",
      "|         7|                  2|Schutt Youth Recr...|               null|119.98799999999999|http://images.acm...|\n",
      "|         8|                  2|Nike Men's Vapor ...|               null|           155.988|http://images.acm...|\n",
      "|         9|                  2|Nike Adult Vapor ...|               null|              60.0|http://images.acm...|\n",
      "|        10|                  2|Under Armour Men'...|               null|           155.988|http://images.acm...|\n",
      "|        11|                  2|Fitness Gear 300 ...|               null|           251.988|http://images.acm...|\n",
      "|        12|                  2|Under Armour Men'...|               null|           167.988|http://images.acm...|\n",
      "|        13|                  2|Under Armour Men'...|               null|107.98799999999999|http://images.acm...|\n",
      "|        14|                  2|Quik Shade Summit...|               null|           239.988|http://images.acm...|\n",
      "|        15|                  2|Under Armour Kids...|               null|            71.988|http://images.acm...|\n",
      "|        16|                  2|Riddell Youth 360...|               null|           359.988|http://images.acm...|\n",
      "|        17|                  2|Under Armour Men'...|               null|           155.988|http://images.acm...|\n",
      "|        18|                  2|Reebok Men's Full...|               null|            35.964|http://images.acm...|\n",
      "|        19|                  2|Nike Men's Finger...|               null|           149.988|http://images.acm...|\n",
      "|        20|                  2|Under Armour Men'...|               null|           155.988|http://images.acm...|\n",
      "+----------+-------------------+--------------------+-------------------+------------------+--------------------+\n",
      "only showing top 20 rows\n",
      "\n"
     ]
    }
   ],
   "source": [
    "df2.show()"
   ]
  },
  {
   "cell_type": "code",
   "execution_count": null,
   "id": "1be59ea8",
   "metadata": {},
   "outputs": [],
   "source": [
    "new_df = df1.withColumn(\"product_price\",expr(\"CASE WHEN product_name like '%Nike%' THEN product_pric e*1.2WHENproduct_namelike'%Armour%'THENproduct_price*1.1ELSEproduct_priceEND\"))"
   ]
  }
 ],
 "metadata": {
  "kernelspec": {
   "display_name": "Pyspark 3",
   "language": "python",
   "name": "pyspark3"
  },
  "language_info": {
   "codemirror_mode": {
    "name": "ipython",
    "version": 3
   },
   "file_extension": ".py",
   "mimetype": "text/x-python",
   "name": "python",
   "nbconvert_exporter": "python",
   "pygments_lexer": "ipython3",
   "version": "3.6.12"
  }
 },
 "nbformat": 4,
 "nbformat_minor": 5
}
